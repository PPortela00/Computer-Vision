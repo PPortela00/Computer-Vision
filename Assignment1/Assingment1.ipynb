{
 "cells": [
  {
   "cell_type": "code",
   "execution_count": 3,
   "metadata": {},
   "outputs": [],
   "source": [
    "from PIL import Image\n",
    "import os\n",
    "import cv2\n",
    "import numpy as np"
   ]
  },
  {
   "cell_type": "markdown",
   "metadata": {},
   "source": [
    "<h2> Import of Libraries </h2>  "
   ]
  },
  {
   "cell_type": "code",
   "execution_count": 4,
   "metadata": {},
   "outputs": [
    {
     "name": "stdout",
     "output_type": "stream",
     "text": [
      "Imagens do folder GreyBackground:\n",
      "Imagem lida: calib_img 0.png\n",
      "Imagem lida: calib_img 1.png\n",
      "Imagem lida: calib_img 2.png\n",
      "Imagem lida: calib_img 3.png\n",
      "Imagem lida: calib_img 4.png\n",
      "Imagem lida: calib_img 5.png\n",
      "Imagem lida: extrinsic.png\n",
      "\n",
      "Imagens do folder WhiteBackground:\n",
      "Imagem lida: calib_img 0.png\n",
      "Imagem lida: calib_img 1.png\n",
      "Imagem lida: calib_img 2.png\n",
      "Imagem lida: calib_img 3.png\n",
      "Imagem lida: extrinsic.png\n",
      "\n",
      "Imagens do folder IntrinsicCalibration:\n",
      "Imagem lida: calib_img 0.png\n",
      "Imagem lida: calib_img 1.png\n",
      "Imagem lida: calib_img 10.png\n",
      "Imagem lida: calib_img 11.png\n",
      "Imagem lida: calib_img 12.png\n",
      "Imagem lida: calib_img 13.png\n",
      "Imagem lida: calib_img 14.png\n",
      "Imagem lida: calib_img 15.png\n",
      "Imagem lida: calib_img 16.png\n",
      "Imagem lida: calib_img 17.png\n",
      "Imagem lida: calib_img 18.png\n",
      "Imagem lida: calib_img 19.png\n",
      "Imagem lida: calib_img 2.png\n",
      "Imagem lida: calib_img 20.png\n",
      "Imagem lida: calib_img 21.png\n",
      "Imagem lida: calib_img 22.png\n",
      "Imagem lida: calib_img 23.png\n",
      "Imagem lida: calib_img 24.png\n",
      "Imagem lida: calib_img 25.png\n",
      "Imagem lida: calib_img 26.png\n",
      "Imagem lida: calib_img 27.png\n",
      "Imagem lida: calib_img 28.png\n",
      "Imagem lida: calib_img 29.png\n",
      "Imagem lida: calib_img 3.png\n",
      "Imagem lida: calib_img 30.png\n",
      "Imagem lida: calib_img 31.png\n",
      "Imagem lida: calib_img 32.png\n",
      "Imagem lida: calib_img 33.png\n",
      "Imagem lida: calib_img 34.png\n",
      "Imagem lida: calib_img 35.png\n",
      "Imagem lida: calib_img 4.png\n",
      "Imagem lida: calib_img 5.png\n",
      "Imagem lida: calib_img 6.png\n",
      "Imagem lida: calib_img 7.png\n",
      "Imagem lida: calib_img 8.png\n",
      "Imagem lida: calib_img 9.png\n",
      "\n",
      "{'calib_img 0.png': <PIL.PngImagePlugin.PngImageFile image mode=RGB size=1920x1080 at 0x1FADFDB6690>, 'calib_img 1.png': <PIL.PngImagePlugin.PngImageFile image mode=RGB size=1920x1080 at 0x1FADF69F390>, 'calib_img 2.png': <PIL.PngImagePlugin.PngImageFile image mode=RGB size=1920x1080 at 0x1FADFE3CDD0>, 'calib_img 3.png': <PIL.PngImagePlugin.PngImageFile image mode=RGB size=1920x1080 at 0x1FADFE3D050>, 'calib_img 4.png': <PIL.PngImagePlugin.PngImageFile image mode=RGB size=1920x1080 at 0x1FADFE3D3D0>, 'calib_img 5.png': <PIL.PngImagePlugin.PngImageFile image mode=RGB size=1920x1080 at 0x1FADFE3D690>, 'extrinsic.png': <PIL.PngImagePlugin.PngImageFile image mode=RGB size=1920x1080 at 0x1FADFE3D9D0>}\n",
      "{'calib_img 0.png': <PIL.PngImagePlugin.PngImageFile image mode=RGB size=1920x1080 at 0x1FADFE3DED0>, 'calib_img 1.png': <PIL.PngImagePlugin.PngImageFile image mode=RGB size=1920x1080 at 0x1FADFE3E1D0>, 'calib_img 2.png': <PIL.PngImagePlugin.PngImageFile image mode=RGB size=1920x1080 at 0x1FADFE3E510>, 'calib_img 3.png': <PIL.PngImagePlugin.PngImageFile image mode=RGB size=1920x1080 at 0x1FADFE3E850>, 'extrinsic.png': <PIL.PngImagePlugin.PngImageFile image mode=RGB size=1920x1080 at 0x1FADFE3EB90>}\n",
      "{'calib_img 0.png': <PIL.PngImagePlugin.PngImageFile image mode=RGB size=1920x1080 at 0x1FADFE3F150>, 'calib_img 1.png': <PIL.PngImagePlugin.PngImageFile image mode=RGB size=1920x1080 at 0x1FADFE3F490>, 'calib_img 10.png': <PIL.PngImagePlugin.PngImageFile image mode=RGB size=1920x1080 at 0x1FADFE3F790>, 'calib_img 11.png': <PIL.PngImagePlugin.PngImageFile image mode=RGB size=1920x1080 at 0x1FADFE3FA90>, 'calib_img 12.png': <PIL.PngImagePlugin.PngImageFile image mode=RGBA size=1920x1080 at 0x1FADFE3FD90>, 'calib_img 13.png': <PIL.PngImagePlugin.PngImageFile image mode=RGB size=1920x1080 at 0x1FADFE4C190>, 'calib_img 14.png': <PIL.PngImagePlugin.PngImageFile image mode=RGB size=1920x1080 at 0x1FADFE4C4D0>, 'calib_img 15.png': <PIL.PngImagePlugin.PngImageFile image mode=RGBA size=1920x1080 at 0x1FADFE4C7D0>, 'calib_img 16.png': <PIL.PngImagePlugin.PngImageFile image mode=RGBA size=1920x1080 at 0x1FADFE4CB90>, 'calib_img 17.png': <PIL.PngImagePlugin.PngImageFile image mode=RGBA size=1920x1080 at 0x1FADFE4CF90>, 'calib_img 18.png': <PIL.PngImagePlugin.PngImageFile image mode=RGB size=1920x1080 at 0x1FADFE4D350>, 'calib_img 19.png': <PIL.PngImagePlugin.PngImageFile image mode=RGB size=1920x1080 at 0x1FADFE4D690>, 'calib_img 2.png': <PIL.PngImagePlugin.PngImageFile image mode=RGBA size=1920x1080 at 0x1FADFE4D950>, 'calib_img 20.png': <PIL.PngImagePlugin.PngImageFile image mode=RGBA size=1920x1080 at 0x1FADFE4DCD0>, 'calib_img 21.png': <PIL.PngImagePlugin.PngImageFile image mode=RGBA size=1920x1080 at 0x1FADFE4E090>, 'calib_img 22.png': <PIL.PngImagePlugin.PngImageFile image mode=RGB size=1920x1080 at 0x1FADFE4E4D0>, 'calib_img 23.png': <PIL.PngImagePlugin.PngImageFile image mode=RGB size=1920x1080 at 0x1FADFE4E790>, 'calib_img 24.png': <PIL.PngImagePlugin.PngImageFile image mode=RGB size=1920x1080 at 0x1FADFE4EA90>, 'calib_img 25.png': <PIL.PngImagePlugin.PngImageFile image mode=RGBA size=1920x1080 at 0x1FADFE4ED90>, 'calib_img 26.png': <PIL.PngImagePlugin.PngImageFile image mode=RGBA size=1920x1080 at 0x1FADFE4F150>, 'calib_img 27.png': <PIL.PngImagePlugin.PngImageFile image mode=RGBA size=1920x1080 at 0x1FADFE4F510>, 'calib_img 28.png': <PIL.PngImagePlugin.PngImageFile image mode=RGBA size=1920x1080 at 0x1FADFE4F8D0>, 'calib_img 29.png': <PIL.PngImagePlugin.PngImageFile image mode=RGBA size=1920x1080 at 0x1FADFE4FCD0>, 'calib_img 3.png': <PIL.PngImagePlugin.PngImageFile image mode=RGB size=1920x1080 at 0x1FADFE500D0>, 'calib_img 30.png': <PIL.PngImagePlugin.PngImageFile image mode=RGBA size=1920x1080 at 0x1FADFE503D0>, 'calib_img 31.png': <PIL.PngImagePlugin.PngImageFile image mode=RGBA size=1920x1080 at 0x1FADFE50790>, 'calib_img 32.png': <PIL.PngImagePlugin.PngImageFile image mode=RGBA size=1920x1080 at 0x1FADFE50B90>, 'calib_img 33.png': <PIL.PngImagePlugin.PngImageFile image mode=RGBA size=1920x1080 at 0x1FADFE50F90>, 'calib_img 34.png': <PIL.PngImagePlugin.PngImageFile image mode=RGBA size=1920x1080 at 0x1FADFE51390>, 'calib_img 35.png': <PIL.PngImagePlugin.PngImageFile image mode=RGB size=1920x1080 at 0x1FADFE51790>, 'calib_img 4.png': <PIL.PngImagePlugin.PngImageFile image mode=RGB size=1920x1080 at 0x1FADFE51AD0>, 'calib_img 5.png': <PIL.PngImagePlugin.PngImageFile image mode=RGB size=1920x1080 at 0x1FADFE51DD0>, 'calib_img 6.png': <PIL.PngImagePlugin.PngImageFile image mode=RGB size=1920x1080 at 0x1FADFE52090>, 'calib_img 7.png': <PIL.PngImagePlugin.PngImageFile image mode=RGB size=1920x1080 at 0x1FADFE52390>, 'calib_img 8.png': <PIL.PngImagePlugin.PngImageFile image mode=RGB size=1920x1080 at 0x1FADFE52690>, 'calib_img 9.png': <PIL.PngImagePlugin.PngImageFile image mode=RGBA size=1920x1080 at 0x1FADFE52990>}\n"
     ]
    }
   ],
   "source": [
    "# Função para ler as imagens de uma pasta e retornar um dicionário\n",
    "def ler_imagens_de_pasta(folder_name):\n",
    "    images = {}\n",
    "    print(f\"Imagens do folder {folder_name}:\")\n",
    "    \n",
    "    for filename in os.listdir(folder_name):\n",
    "        if filename.endswith(\".png\"):\n",
    "            file_path = os.path.join(folder_name, filename)\n",
    "            image = Image.open(file_path)\n",
    "            \n",
    "            # Armazene a imagem no dicionário, usando o nome do arquivo como chave\n",
    "            images[filename] = image\n",
    "            \n",
    "            print(f\"Imagem lida: {filename}\")\n",
    "    \n",
    "    return images\n",
    "\n",
    "# Lista de nomes de pastas\n",
    "folders = [\"GreyBackground\", \"WhiteBackground\", \"IntrinsicCalibration\"]\n",
    "\n",
    "# Dicionário para armazenar as imagens\n",
    "image_arrays = {}\n",
    "\n",
    "# Para cada pasta, chame a função ler_imagens_de_pasta e armazene o resultado no dicionário image_arrays\n",
    "for folder_name in folders:\n",
    "    image_arrays[f\"array_{folder_name}\"] = ler_imagens_de_pasta(folder_name)\n",
    "    print(\"\")\n",
    "\n",
    "# Agora você tem dicionários separados para cada pasta com o nome da pasta como chave\n",
    "print(image_arrays[\"array_GreyBackground\"])\n",
    "print(image_arrays[\"array_WhiteBackground\"])\n",
    "print(image_arrays[\"array_IntrinsicCalibration\"])"
   ]
  },
  {
   "cell_type": "markdown",
   "metadata": {},
   "source": [
    "<h1> Exercises Resolution </h1>"
   ]
  },
  {
   "cell_type": "markdown",
   "metadata": {},
   "source": [
    "<h2> 1. Calibrate the intrinsic parameters and lens distortion of the camera. Show the intrinsic matrix and the lens distortion coefficients. </h2>"
   ]
  },
  {
   "cell_type": "code",
   "execution_count": 20,
   "metadata": {},
   "outputs": [
    {
     "data": {
      "text/plain": [
       "{'calib_img 0.png': <PIL.PngImagePlugin.PngImageFile image mode=RGB size=1920x1080>,\n",
       " 'calib_img 1.png': <PIL.PngImagePlugin.PngImageFile image mode=RGB size=1920x1080>,\n",
       " 'calib_img 10.png': <PIL.PngImagePlugin.PngImageFile image mode=RGB size=1920x1080>,\n",
       " 'calib_img 11.png': <PIL.PngImagePlugin.PngImageFile image mode=RGB size=1920x1080>,\n",
       " 'calib_img 12.png': <PIL.PngImagePlugin.PngImageFile image mode=RGBA size=1920x1080>,\n",
       " 'calib_img 13.png': <PIL.PngImagePlugin.PngImageFile image mode=RGB size=1920x1080>,\n",
       " 'calib_img 14.png': <PIL.PngImagePlugin.PngImageFile image mode=RGB size=1920x1080>,\n",
       " 'calib_img 15.png': <PIL.PngImagePlugin.PngImageFile image mode=RGBA size=1920x1080>,\n",
       " 'calib_img 16.png': <PIL.PngImagePlugin.PngImageFile image mode=RGBA size=1920x1080>,\n",
       " 'calib_img 17.png': <PIL.PngImagePlugin.PngImageFile image mode=RGBA size=1920x1080>,\n",
       " 'calib_img 18.png': <PIL.PngImagePlugin.PngImageFile image mode=RGB size=1920x1080>,\n",
       " 'calib_img 19.png': <PIL.PngImagePlugin.PngImageFile image mode=RGB size=1920x1080>,\n",
       " 'calib_img 2.png': <PIL.PngImagePlugin.PngImageFile image mode=RGBA size=1920x1080>,\n",
       " 'calib_img 20.png': <PIL.PngImagePlugin.PngImageFile image mode=RGBA size=1920x1080>,\n",
       " 'calib_img 21.png': <PIL.PngImagePlugin.PngImageFile image mode=RGBA size=1920x1080>,\n",
       " 'calib_img 22.png': <PIL.PngImagePlugin.PngImageFile image mode=RGB size=1920x1080>,\n",
       " 'calib_img 23.png': <PIL.PngImagePlugin.PngImageFile image mode=RGB size=1920x1080>,\n",
       " 'calib_img 24.png': <PIL.PngImagePlugin.PngImageFile image mode=RGB size=1920x1080>,\n",
       " 'calib_img 25.png': <PIL.PngImagePlugin.PngImageFile image mode=RGBA size=1920x1080>,\n",
       " 'calib_img 26.png': <PIL.PngImagePlugin.PngImageFile image mode=RGBA size=1920x1080>,\n",
       " 'calib_img 27.png': <PIL.PngImagePlugin.PngImageFile image mode=RGBA size=1920x1080>,\n",
       " 'calib_img 28.png': <PIL.PngImagePlugin.PngImageFile image mode=RGBA size=1920x1080>,\n",
       " 'calib_img 29.png': <PIL.PngImagePlugin.PngImageFile image mode=RGBA size=1920x1080>,\n",
       " 'calib_img 3.png': <PIL.PngImagePlugin.PngImageFile image mode=RGB size=1920x1080>,\n",
       " 'calib_img 30.png': <PIL.PngImagePlugin.PngImageFile image mode=RGBA size=1920x1080>,\n",
       " 'calib_img 31.png': <PIL.PngImagePlugin.PngImageFile image mode=RGBA size=1920x1080>,\n",
       " 'calib_img 32.png': <PIL.PngImagePlugin.PngImageFile image mode=RGBA size=1920x1080>,\n",
       " 'calib_img 33.png': <PIL.PngImagePlugin.PngImageFile image mode=RGBA size=1920x1080>,\n",
       " 'calib_img 34.png': <PIL.PngImagePlugin.PngImageFile image mode=RGBA size=1920x1080>,\n",
       " 'calib_img 35.png': <PIL.PngImagePlugin.PngImageFile image mode=RGB size=1920x1080>,\n",
       " 'calib_img 4.png': <PIL.PngImagePlugin.PngImageFile image mode=RGB size=1920x1080>,\n",
       " 'calib_img 5.png': <PIL.PngImagePlugin.PngImageFile image mode=RGB size=1920x1080>,\n",
       " 'calib_img 6.png': <PIL.PngImagePlugin.PngImageFile image mode=RGB size=1920x1080>,\n",
       " 'calib_img 7.png': <PIL.PngImagePlugin.PngImageFile image mode=RGB size=1920x1080>,\n",
       " 'calib_img 8.png': <PIL.PngImagePlugin.PngImageFile image mode=RGB size=1920x1080>,\n",
       " 'calib_img 9.png': <PIL.PngImagePlugin.PngImageFile image mode=RGBA size=1920x1080>}"
      ]
     },
     "execution_count": 20,
     "metadata": {},
     "output_type": "execute_result"
    }
   ],
   "source": [
    "# Dicionário com imagens\n",
    "intrinsicimages = image_arrays[\"array_IntrinsicCalibration\"]\n",
    "intrinsicimages"
   ]
  },
  {
   "cell_type": "code",
   "execution_count": 24,
   "metadata": {},
   "outputs": [
    {
     "ename": "error",
     "evalue": "OpenCV(4.8.1) D:\\a\\opencv-python\\opencv-python\\opencv\\modules\\calib3d\\src\\calibration.cpp:3752: error: (-215:Assertion failed) nimages > 0 in function 'cv::calibrateCameraRO'\n",
     "output_type": "error",
     "traceback": [
      "\u001b[1;31m---------------------------------------------------------------------------\u001b[0m",
      "\u001b[1;31merror\u001b[0m                                     Traceback (most recent call last)",
      "\u001b[1;32mc:\\Users\\pport\\OneDrive\\Ambiente de Trabalho\\MECD\\2ºAno\\Computer Vision\\Assignments and Project\\Computer-Vision\\Assignment1\\Assingment1.ipynb Cell 7\u001b[0m line \u001b[0;36m4\n\u001b[0;32m     <a href='vscode-notebook-cell:/c%3A/Users/pport/OneDrive/Ambiente%20de%20Trabalho/MECD/2%C2%BAAno/Computer%20Vision/Assignments%20and%20Project/Computer-Vision/Assignment1/Assingment1.ipynb#X51sZmlsZQ%3D%3D?line=39'>40</a>\u001b[0m cv2\u001b[39m.\u001b[39mdestroyAllWindows()\n\u001b[0;32m     <a href='vscode-notebook-cell:/c%3A/Users/pport/OneDrive/Ambiente%20de%20Trabalho/MECD/2%C2%BAAno/Computer%20Vision/Assignments%20and%20Project/Computer-Vision/Assignment1/Assingment1.ipynb#X51sZmlsZQ%3D%3D?line=41'>42</a>\u001b[0m \u001b[39m# Calibração da câmera\u001b[39;00m\n\u001b[1;32m---> <a href='vscode-notebook-cell:/c%3A/Users/pport/OneDrive/Ambiente%20de%20Trabalho/MECD/2%C2%BAAno/Computer%20Vision/Assignments%20and%20Project/Computer-Vision/Assignment1/Assingment1.ipynb#X51sZmlsZQ%3D%3D?line=42'>43</a>\u001b[0m ret, mtx, dist, rvecs, tvecs \u001b[39m=\u001b[39m cv2\u001b[39m.\u001b[39;49mcalibrateCamera(objpoints, imgpoints, gray\u001b[39m.\u001b[39;49mshape[::\u001b[39m-\u001b[39;49m\u001b[39m1\u001b[39;49m], \u001b[39mNone\u001b[39;49;00m, \u001b[39mNone\u001b[39;49;00m)\n",
      "\u001b[1;31merror\u001b[0m: OpenCV(4.8.1) D:\\a\\opencv-python\\opencv-python\\opencv\\modules\\calib3d\\src\\calibration.cpp:3752: error: (-215:Assertion failed) nimages > 0 in function 'cv::calibrateCameraRO'\n"
     ]
    }
   ],
   "source": [
    "\n",
    "import glob\n",
    "# Converte imagens PNG em JPEG\n",
    "input_folder = \"IntrinsicCalibration/\"\n",
    "output_folder = \"IntrinsicCalibration/\"\n",
    "\n",
    "# Certifique-se de que a pasta de saída exista\n",
    "if not os.path.exists(output_folder):\n",
    "    os.makedirs(output_folder)\n",
    "\n",
    "for filename in os.listdir(input_folder):\n",
    "    if filename.endswith(\".png\"):\n",
    "        image = cv2.imread(os.path.join(input_folder, filename))\n",
    "        output_filename = os.path.splitext(filename)[0] + \".jpg\"\n",
    "        output_path = os.path.join(output_folder, output_filename)\n",
    "        cv2.imwrite(output_path, image)\n",
    "\n",
    "# Prossiga com a calibração da câmera\n",
    "criteria = (cv2.TERM_CRITERIA_EPS + cv2.TERM_CRITERIA_MAX_ITER, 30, 0.001)\n",
    "objp = np.zeros((6 * 7, 3), np.float32)\n",
    "objp[:, :2] = np.mgrid[0:7, 0:6].T.reshape(-1, 2)\n",
    "objpoints = []\n",
    "imgpoints = []\n",
    "\n",
    "images = glob.glob(os.path.join(output_folder, '*.jpg'))\n",
    "\n",
    "for fname in images:\n",
    "    img = cv2.imread(fname)\n",
    "    gray = cv2.cvtColor(img, cv2.COLOR_BGR2GRAY)\n",
    "\n",
    "    ret, corners = cv2.findChessboardCorners(gray, (7, 6), None)\n",
    "    if ret == True:\n",
    "        objpoints.append(objp)\n",
    "        corners2 = cv2.cornerSubPix(gray, corners, (11, 11), (-1, -1), criteria)\n",
    "        imgpoints.append(corners2)\n",
    "\n",
    "        cv2.drawChessboardCorners(img, (7, 6), corners2, ret)\n",
    "        cv2.imshow('img', img)\n",
    "        cv2.waitKey(500)\n",
    "\n",
    "cv2.destroyAllWindows()\n",
    "\n",
    "# Calibração da câmera\n",
    "ret, mtx, dist, rvecs, tvecs = cv2.calibrateCamera(objpoints, imgpoints, gray.shape[::-1], None, None)"
   ]
  },
  {
   "cell_type": "code",
   "execution_count": 11,
   "metadata": {},
   "outputs": [
    {
     "ename": "error",
     "evalue": "OpenCV(4.8.1) D:\\a\\opencv-python\\opencv-python\\opencv\\modules\\calib3d\\src\\calibration.cpp:3752: error: (-215:Assertion failed) nimages > 0 in function 'cv::calibrateCameraRO'\n",
     "output_type": "error",
     "traceback": [
      "\u001b[1;31m---------------------------------------------------------------------------\u001b[0m",
      "\u001b[1;31merror\u001b[0m                                     Traceback (most recent call last)",
      "\u001b[1;32mc:\\Users\\pport\\OneDrive\\Ambiente de Trabalho\\MECD\\2ºAno\\Computer Vision\\Assignments and Project\\Computer-Vision\\Assignment1\\Assingment1.ipynb Cell 5\u001b[0m line \u001b[0;36m2\n\u001b[0;32m     <a href='vscode-notebook-cell:/c%3A/Users/pport/OneDrive/Ambiente%20de%20Trabalho/MECD/2%C2%BAAno/Computer%20Vision/Assignments%20and%20Project/Computer-Vision/Assignment1/Assingment1.ipynb#X13sZmlsZQ%3D%3D?line=22'>23</a>\u001b[0m         image_points\u001b[39m.\u001b[39mappend(corners)\n\u001b[0;32m     <a href='vscode-notebook-cell:/c%3A/Users/pport/OneDrive/Ambiente%20de%20Trabalho/MECD/2%C2%BAAno/Computer%20Vision/Assignments%20and%20Project/Computer-Vision/Assignment1/Assingment1.ipynb#X13sZmlsZQ%3D%3D?line=24'>25</a>\u001b[0m \u001b[39m# Calibrar a câmera\u001b[39;00m\n\u001b[1;32m---> <a href='vscode-notebook-cell:/c%3A/Users/pport/OneDrive/Ambiente%20de%20Trabalho/MECD/2%C2%BAAno/Computer%20Vision/Assignments%20and%20Project/Computer-Vision/Assignment1/Assingment1.ipynb#X13sZmlsZQ%3D%3D?line=25'>26</a>\u001b[0m ret, intrinsic_matrix, distortion_coefficients, rvecs, tvecs \u001b[39m=\u001b[39m cv2\u001b[39m.\u001b[39;49mcalibrateCamera(object_points, image_points, gray\u001b[39m.\u001b[39;49mshape[::\u001b[39m-\u001b[39;49m\u001b[39m1\u001b[39;49m], \u001b[39mNone\u001b[39;49;00m, \u001b[39mNone\u001b[39;49;00m)\n\u001b[0;32m     <a href='vscode-notebook-cell:/c%3A/Users/pport/OneDrive/Ambiente%20de%20Trabalho/MECD/2%C2%BAAno/Computer%20Vision/Assignments%20and%20Project/Computer-Vision/Assignment1/Assingment1.ipynb#X13sZmlsZQ%3D%3D?line=27'>28</a>\u001b[0m \u001b[39mif\u001b[39;00m ret:\n\u001b[0;32m     <a href='vscode-notebook-cell:/c%3A/Users/pport/OneDrive/Ambiente%20de%20Trabalho/MECD/2%C2%BAAno/Computer%20Vision/Assignments%20and%20Project/Computer-Vision/Assignment1/Assingment1.ipynb#X13sZmlsZQ%3D%3D?line=28'>29</a>\u001b[0m     \u001b[39mprint\u001b[39m(\u001b[39m\"\u001b[39m\u001b[39mCalibração concluída com sucesso:\u001b[39m\u001b[39m\"\u001b[39m)\n",
      "\u001b[1;31merror\u001b[0m: OpenCV(4.8.1) D:\\a\\opencv-python\\opencv-python\\opencv\\modules\\calib3d\\src\\calibration.cpp:3752: error: (-215:Assertion failed) nimages > 0 in function 'cv::calibrateCameraRO'\n"
     ]
    }
   ],
   "source": [
    "# Recupere as imagens da pasta \"IntrinsicCalibration\"\n",
    "image_array = image_arrays[\"array_IntrinsicCalibration\"]\n",
    "\n",
    "# Defina o tamanho do tabuleiro de xadrez (número de interseções internas)\n",
    "chessboard_size = (8, 5)  # Substitua pelo tamanho do tabuleiro de xadrez usado\n",
    "\n",
    "# Listas para armazenar pontos de correspondência em 3D (pontos do mundo real) e 2D (pontos na imagem)\n",
    "object_points = []  # 3D\n",
    "image_points = []   # 2D\n",
    "\n",
    "# Crie um grid de pontos no espaço 3D (pontos do mundo real)\n",
    "object_points_grid = np.zeros((chessboard_size[0] * chessboard_size[1], 3), np.float32)\n",
    "object_points_grid[:, :2] = np.mgrid[0:chessboard_size[0], 0:chessboard_size[1]].T.reshape(-1, 2)\n",
    "\n",
    "for image in image_array.values():\n",
    "    gray = cv2.cvtColor(np.array(image), cv2.COLOR_RGB2GRAY)\n",
    "\n",
    "    # Tente encontrar os cantos do tabuleiro de xadrez na imagem\n",
    "    ret, corners = cv2.findChessboardCorners(gray, chessboard_size, None)\n",
    "\n",
    "    if ret:\n",
    "        object_points.append(object_points_grid)\n",
    "        image_points.append(corners)\n",
    "\n",
    "# Calibrar a câmera\n",
    "ret, intrinsic_matrix, distortion_coefficients, rvecs, tvecs = cv2.calibrateCamera(object_points, image_points, gray.shape[::-1], None, None)\n",
    "\n",
    "if ret:\n",
    "    print(\"Calibração concluída com sucesso:\")\n",
    "    print(\"Matriz intrínseca (câmera):\")\n",
    "    print(intrinsic_matrix)\n",
    "    print(\"\\nCoeficientes de distorção da lente:\")\n",
    "    print(distortion_coefficients)\n",
    "else:\n",
    "    print(\"A calibração falhou.\")"
   ]
  },
  {
   "cell_type": "code",
   "execution_count": 16,
   "metadata": {},
   "outputs": [
    {
     "ename": "error",
     "evalue": "OpenCV(4.8.1) D:\\a\\opencv-python\\opencv-python\\opencv\\modules\\calib3d\\src\\calibration.cpp:3752: error: (-215:Assertion failed) nimages > 0 in function 'cv::calibrateCameraRO'\n",
     "output_type": "error",
     "traceback": [
      "\u001b[1;31m---------------------------------------------------------------------------\u001b[0m",
      "\u001b[1;31merror\u001b[0m                                     Traceback (most recent call last)",
      "\u001b[1;32mc:\\Users\\pport\\OneDrive\\Ambiente de Trabalho\\MECD\\2ºAno\\Computer Vision\\Assignments and Project\\Computer-Vision\\Assignment1\\Assingment1.ipynb Cell 6\u001b[0m line \u001b[0;36m3\n\u001b[0;32m     <a href='vscode-notebook-cell:/c%3A/Users/pport/OneDrive/Ambiente%20de%20Trabalho/MECD/2%C2%BAAno/Computer%20Vision/Assignments%20and%20Project/Computer-Vision/Assignment1/Assingment1.ipynb#X14sZmlsZQ%3D%3D?line=28'>29</a>\u001b[0m         cv2\u001b[39m.\u001b[39mwaitKey(\u001b[39m500\u001b[39m)\n\u001b[0;32m     <a href='vscode-notebook-cell:/c%3A/Users/pport/OneDrive/Ambiente%20de%20Trabalho/MECD/2%C2%BAAno/Computer%20Vision/Assignments%20and%20Project/Computer-Vision/Assignment1/Assingment1.ipynb#X14sZmlsZQ%3D%3D?line=30'>31</a>\u001b[0m \u001b[39m# Calibration of the camera\u001b[39;00m\n\u001b[1;32m---> <a href='vscode-notebook-cell:/c%3A/Users/pport/OneDrive/Ambiente%20de%20Trabalho/MECD/2%C2%BAAno/Computer%20Vision/Assignments%20and%20Project/Computer-Vision/Assignment1/Assingment1.ipynb#X14sZmlsZQ%3D%3D?line=31'>32</a>\u001b[0m ret, intrinsic_matrix, distortion_coefficients, rvecs, tvecs \u001b[39m=\u001b[39m cv2\u001b[39m.\u001b[39;49mcalibrateCamera(objpoints, imgpoints, gray\u001b[39m.\u001b[39;49mshape[::\u001b[39m-\u001b[39;49m\u001b[39m1\u001b[39;49m], \u001b[39mNone\u001b[39;49;00m, \u001b[39mNone\u001b[39;49;00m)\n\u001b[0;32m     <a href='vscode-notebook-cell:/c%3A/Users/pport/OneDrive/Ambiente%20de%20Trabalho/MECD/2%C2%BAAno/Computer%20Vision/Assignments%20and%20Project/Computer-Vision/Assignment1/Assingment1.ipynb#X14sZmlsZQ%3D%3D?line=33'>34</a>\u001b[0m \u001b[39mif\u001b[39;00m ret:\n\u001b[0;32m     <a href='vscode-notebook-cell:/c%3A/Users/pport/OneDrive/Ambiente%20de%20Trabalho/MECD/2%C2%BAAno/Computer%20Vision/Assignments%20and%20Project/Computer-Vision/Assignment1/Assingment1.ipynb#X14sZmlsZQ%3D%3D?line=34'>35</a>\u001b[0m     \u001b[39mprint\u001b[39m(\u001b[39m\"\u001b[39m\u001b[39mCalibração concluída com sucesso:\u001b[39m\u001b[39m\"\u001b[39m)\n",
      "\u001b[1;31merror\u001b[0m: OpenCV(4.8.1) D:\\a\\opencv-python\\opencv-python\\opencv\\modules\\calib3d\\src\\calibration.cpp:3752: error: (-215:Assertion failed) nimages > 0 in function 'cv::calibrateCameraRO'\n"
     ]
    }
   ],
   "source": [
    "# Recupere as imagens da pasta \"IntrinsicCalibration\"\n",
    "image_array = image_arrays[\"array_IntrinsicCalibration\"]\n",
    "\n",
    "# Prepare object points for a 5x8 chessboard\n",
    "chessboard_size = (5,8)  # 8 colunas e 5 linhas\n",
    "criteria = (cv2.TERM_CRITERIA_EPS + cv2.TERM_CRITERIA_MAX_ITER, 30, 0.001)\n",
    "\n",
    "objp = np.zeros((chessboard_size[0] * chessboard_size[1], 3), np.float32)\n",
    "objp[:, :2] = np.mgrid[0:chessboard_size[1], 0:chessboard_size[0]].T.reshape(-1, 2)\n",
    "\n",
    "# Arrays to store object points and image points from all the images\n",
    "objpoints = []  # 3D points in real-world space\n",
    "imgpoints = []  # 2D points in image plane\n",
    "\n",
    "# Loop through the images in image_array\n",
    "for image in image_array.values():\n",
    "    img = np.array(image)\n",
    "    print(img)\n",
    "    gray = cv2.cvtColor(img, cv2.COLOR_BGR2GRAY)\n",
    "\n",
    "    # Find the chessboard corners\n",
    "    ret, corners = cv2.findChessboardCorners(gray, chessboard_size, None)\n",
    "\n",
    "    # If found, add object points, image points (after refining them)\n",
    "    if ret:\n",
    "        objpoints.append(objp)\n",
    "        corners2 = cv2.cornerSubPix(gray, corners, (11, 11), (-1, -1), criteria)\n",
    "        imgpoints.append(corners2)\n",
    "\n",
    "        # Draw and display the corners\n",
    "        img_with_corners = cv2.drawChessboardCorners(img, chessboard_size, corners2, ret)\n",
    "        cv2.imshow('img', img_with_corners)\n",
    "        cv2.waitKey(500)\n",
    "\n",
    "# Calibration of the camera\n",
    "ret, intrinsic_matrix, distortion_coefficients, rvecs, tvecs = cv2.calibrateCamera(objpoints, imgpoints, gray.shape[::-1], None, None)\n",
    "\n",
    "if ret:\n",
    "    print(\"Calibração concluída com sucesso:\")\n",
    "    print(\"Matriz intrínseca (câmera):\")\n",
    "    print(intrinsic_matrix)\n",
    "    print(\"\\nCoeficientes de distorção da lente:\")\n",
    "    print(distortion_coefficients)\n",
    "else:\n",
    "    print(\"A calibração falhou.\")\n",
    "\n",
    "cv2.destroyAllWindows()"
   ]
  },
  {
   "cell_type": "code",
   "execution_count": 30,
   "metadata": {},
   "outputs": [
    {
     "name": "stdout",
     "output_type": "stream",
     "text": [
      "calib_img 0.png\n"
     ]
    },
    {
     "ename": "NameError",
     "evalue": "name 'cv2_imshow' is not defined",
     "output_type": "error",
     "traceback": [
      "\u001b[1;31m---------------------------------------------------------------------------\u001b[0m",
      "\u001b[1;31mNameError\u001b[0m                                 Traceback (most recent call last)",
      "\u001b[1;32mc:\\Users\\pport\\OneDrive\\Ambiente de Trabalho\\MECD\\2ºAno\\Computer Vision\\Assignments and Project\\Computer-Vision\\Assignment1\\Assingment1.ipynb Cell 7\u001b[0m line \u001b[0;36m1\n\u001b[0;32m     <a href='vscode-notebook-cell:/c%3A/Users/pport/OneDrive/Ambiente%20de%20Trabalho/MECD/2%C2%BAAno/Computer%20Vision/Assignments%20and%20Project/Computer-Vision/Assignment1/Assingment1.ipynb#X15sZmlsZQ%3D%3D?line=16'>17</a>\u001b[0m \u001b[39mprint\u001b[39m(fname)\n\u001b[0;32m     <a href='vscode-notebook-cell:/c%3A/Users/pport/OneDrive/Ambiente%20de%20Trabalho/MECD/2%C2%BAAno/Computer%20Vision/Assignments%20and%20Project/Computer-Vision/Assignment1/Assingment1.ipynb#X15sZmlsZQ%3D%3D?line=17'>18</a>\u001b[0m img \u001b[39m=\u001b[39m cv2\u001b[39m.\u001b[39mimread(fname)\n\u001b[1;32m---> <a href='vscode-notebook-cell:/c%3A/Users/pport/OneDrive/Ambiente%20de%20Trabalho/MECD/2%C2%BAAno/Computer%20Vision/Assignments%20and%20Project/Computer-Vision/Assignment1/Assingment1.ipynb#X15sZmlsZQ%3D%3D?line=18'>19</a>\u001b[0m cv2_imshow(img)\n\u001b[0;32m     <a href='vscode-notebook-cell:/c%3A/Users/pport/OneDrive/Ambiente%20de%20Trabalho/MECD/2%C2%BAAno/Computer%20Vision/Assignments%20and%20Project/Computer-Vision/Assignment1/Assingment1.ipynb#X15sZmlsZQ%3D%3D?line=19'>20</a>\u001b[0m \u001b[39mprint\u001b[39m(img)\n\u001b[0;32m     <a href='vscode-notebook-cell:/c%3A/Users/pport/OneDrive/Ambiente%20de%20Trabalho/MECD/2%C2%BAAno/Computer%20Vision/Assignments%20and%20Project/Computer-Vision/Assignment1/Assingment1.ipynb#X15sZmlsZQ%3D%3D?line=20'>21</a>\u001b[0m gray \u001b[39m=\u001b[39m cv2\u001b[39m.\u001b[39mcvtColor(img, cv2\u001b[39m.\u001b[39mCOLOR_BGR2GRAY)\n",
      "\u001b[1;31mNameError\u001b[0m: name 'cv2_imshow' is not defined"
     ]
    }
   ],
   "source": [
    "# Recupere as imagens da pasta \"IntrinsicCalibration\"\n",
    "image_array = image_arrays[\"array_IntrinsicCalibration\"]\n",
    "\n",
    "# Prepare object points for a 5x8 chessboard\n",
    "chessboard_size = (5,8)  # 8 colunas e 5 linhas\n",
    "criteria = (cv2.TERM_CRITERIA_EPS + cv2.TERM_CRITERIA_MAX_ITER, 30, 0.001)\n",
    "\n",
    "objp = np.zeros((chessboard_size[0] * chessboard_size[1], 3), np.float32)\n",
    "objp[:, :2] = np.mgrid[0:chessboard_size[1], 0:chessboard_size[0]].T.reshape(-1, 2)\n",
    "\n",
    "# Arrays to store object points and image points from all the images\n",
    "objpoints = []  # 3D points in real-world space\n",
    "imgpoints = []  # 2D points in image plane\n",
    "\n",
    "# Loop through the images in image_array\n",
    "for fname in image_array:\n",
    "    print(fname)\n",
    "    img = cv2.imread(fname)\n",
    "    cv2.imshow(img)\n",
    "    print(img)\n",
    "    gray = cv2.cvtColor(img, cv2.COLOR_BGR2GRAY)\n",
    "\n",
    "    # Find the chessboard corners\n",
    "    ret, corners = cv2.findChessboardCorners(gray, chessboard_size, None)\n",
    "\n",
    "    # If found, add object points, image points (after refining them)\n",
    "    if ret:\n",
    "        objpoints.append(objp)\n",
    "        corners2 = cv2.cornerSubPix(gray, corners, (11, 11), (-1, -1), criteria)\n",
    "        imgpoints.append(corners2)"
   ]
  },
  {
   "cell_type": "code",
   "execution_count": 48,
   "metadata": {},
   "outputs": [
    {
     "name": "stdout",
     "output_type": "stream",
     "text": [
      "(1080, 1920, 3)\n",
      "uint8\n",
      "[[[ 34  47  42]\n",
      "  [ 37  50  45]\n",
      "  [ 40  53  48]\n",
      "  ...\n",
      "  [  8  30  46]\n",
      "  [ 74 101 116]\n",
      "  [ 90 117 132]]\n",
      "\n",
      " [[ 35  48  43]\n",
      "  [ 37  50  45]\n",
      "  [ 40  53  48]\n",
      "  ...\n",
      "  [  9  31  47]\n",
      "  [ 71  98 113]\n",
      "  [ 88 115 130]]\n",
      "\n",
      " [[ 38  49  42]\n",
      "  [ 40  51  44]\n",
      "  [ 42  53  46]\n",
      "  ...\n",
      "  [ 12  34  52]\n",
      "  [ 66  90 108]\n",
      "  [ 86 110 128]]\n",
      "\n",
      " ...\n",
      "\n",
      " [[ 39  54  50]\n",
      "  [ 40  53  49]\n",
      "  [ 41  52  47]\n",
      "  ...\n",
      "  [113 161 188]\n",
      "  [106 154 181]\n",
      "  [107 155 182]]\n",
      "\n",
      " [[ 42  56  55]\n",
      "  [ 36  48  47]\n",
      "  [ 37  47  44]\n",
      "  ...\n",
      "  [104 154 180]\n",
      "  [101 153 179]\n",
      "  [ 98 150 176]]\n",
      "\n",
      " [[ 35  49  48]\n",
      "  [ 40  52  51]\n",
      "  [ 45  55  52]\n",
      "  ...\n",
      "  [101 151 177]\n",
      "  [101 153 179]\n",
      "  [105 157 183]]]\n",
      "\n",
      "(1080, 1920)\n",
      "uint8\n",
      "[[ 44  47  50 ...  32 102 118]\n",
      " [ 45  47  50 ...  33  99 116]\n",
      " [ 46  48  50 ...  37  93 113]\n",
      " ...\n",
      " [ 51  50  49 ... 164 157 158]\n",
      " [ 54  46  45 ... 156 155 152]\n",
      " [ 47  50  53 ... 153 155 159]]\n"
     ]
    },
    {
     "ename": "error",
     "evalue": "OpenCV(4.8.1) D:\\a\\opencv-python\\opencv-python\\opencv\\modules\\core\\src\\matrix_operations.cpp:67: error: (-215:Assertion failed) src[i].dims <= 2 && src[i].rows == src[0].rows && src[i].type() == src[0].type() in function 'cv::hconcat'\n",
     "output_type": "error",
     "traceback": [
      "\u001b[1;31m---------------------------------------------------------------------------\u001b[0m",
      "\u001b[1;31merror\u001b[0m                                     Traceback (most recent call last)",
      "\u001b[1;32mc:\\Users\\pport\\OneDrive\\Ambiente de Trabalho\\MECD\\2ºAno\\Computer Vision\\Assignments and Project\\Computer-Vision\\Assignment1\\Assingment1.ipynb Cell 8\u001b[0m line \u001b[0;36m1\n\u001b[0;32m     <a href='vscode-notebook-cell:/c%3A/Users/pport/OneDrive/Ambiente%20de%20Trabalho/MECD/2%C2%BAAno/Computer%20Vision/Assignments%20and%20Project/Computer-Vision/Assignment1/Assingment1.ipynb#X20sZmlsZQ%3D%3D?line=12'>13</a>\u001b[0m \u001b[39mprint\u001b[39m(gray\u001b[39m.\u001b[39mdtype)\n\u001b[0;32m     <a href='vscode-notebook-cell:/c%3A/Users/pport/OneDrive/Ambiente%20de%20Trabalho/MECD/2%C2%BAAno/Computer%20Vision/Assignments%20and%20Project/Computer-Vision/Assignment1/Assingment1.ipynb#X20sZmlsZQ%3D%3D?line=13'>14</a>\u001b[0m \u001b[39mprint\u001b[39m(gray)\n\u001b[1;32m---> <a href='vscode-notebook-cell:/c%3A/Users/pport/OneDrive/Ambiente%20de%20Trabalho/MECD/2%C2%BAAno/Computer%20Vision/Assignments%20and%20Project/Computer-Vision/Assignment1/Assingment1.ipynb#X20sZmlsZQ%3D%3D?line=14'>15</a>\u001b[0m final_frame \u001b[39m=\u001b[39m cv2\u001b[39m.\u001b[39;49mhconcat((img, gray))\n\u001b[0;32m     <a href='vscode-notebook-cell:/c%3A/Users/pport/OneDrive/Ambiente%20de%20Trabalho/MECD/2%C2%BAAno/Computer%20Vision/Assignments%20and%20Project/Computer-Vision/Assignment1/Assingment1.ipynb#X20sZmlsZQ%3D%3D?line=15'>16</a>\u001b[0m cv2\u001b[39m.\u001b[39mimshow(final_frame)\n\u001b[0;32m     <a href='vscode-notebook-cell:/c%3A/Users/pport/OneDrive/Ambiente%20de%20Trabalho/MECD/2%C2%BAAno/Computer%20Vision/Assignments%20and%20Project/Computer-Vision/Assignment1/Assingment1.ipynb#X20sZmlsZQ%3D%3D?line=16'>17</a>\u001b[0m \u001b[39m# Find the chessboard corners\u001b[39;00m\n",
      "\u001b[1;31merror\u001b[0m: OpenCV(4.8.1) D:\\a\\opencv-python\\opencv-python\\opencv\\modules\\core\\src\\matrix_operations.cpp:67: error: (-215:Assertion failed) src[i].dims <= 2 && src[i].rows == src[0].rows && src[i].type() == src[0].type() in function 'cv::hconcat'\n"
     ]
    }
   ],
   "source": [
    "img = cv2.imread('IntrinsicCalibration/calib_img 0.png')\n",
    "print(img.shape)\n",
    "print(img.dtype)\n",
    "print(img)\n",
    "#print(img)\n",
    "#cv2.imshow('Imagem', img)\n",
    "\n",
    "print(\"\")\n",
    "\n",
    "\n",
    "gray = cv2.cvtColor(img, cv2.COLOR_BGR2GRAY)\n",
    "print(gray.shape)\n",
    "print(gray.dtype)\n",
    "print(gray)\n",
    "final_frame = cv2.hconcat((img, gray))\n",
    "cv2.imshow(final_frame)\n",
    "# Find the chessboard corners\n",
    "ret, corners = cv2.findChessboardCorners(gray, (8,5), None)\n",
    "\n",
    "# If found, add object points, image points (after refining them)\n",
    "if ret:\n",
    "    print(\"Entrei\")\n",
    "    objpoints.append(objp)\n",
    "    corners2 = cv2.cornerSubPix(gray, corners, (11, 11), (-1, -1), criteria)\n",
    "    imgpoints.append(corners2)"
   ]
  },
  {
   "cell_type": "markdown",
   "metadata": {},
   "source": [
    "<h2> 2. Calibrate the extrinsic parameters of the camera setup (or instead, use \n",
    "the  extrinsic  image  to  manually  measure  the  dimensions  of  a  black \n",
    "square  of  the  chessboard  in  pixels.  In  this  way,  you  will  know  the \n",
    "conversion between pixel to millimeter). Show the extrinsic matrix \n",
    "(rotation,  translation,  etc)  and/or  the  conversion  ratio  between  pixel  to \n",
    "millimeter that was used.  </h2>"
   ]
  },
  {
   "cell_type": "markdown",
   "metadata": {},
   "source": [
    "<h2> 3. Consider only the images retrieved from a White Background. Implement the functions described above. </h2>"
   ]
  },
  {
   "cell_type": "code",
   "execution_count": 16,
   "metadata": {},
   "outputs": [],
   "source": [
    "# Dicionário com imagens\n",
    "whiteimages = image_arrays[\"array_WhiteBackground\"]"
   ]
  },
  {
   "cell_type": "markdown",
   "metadata": {},
   "source": [
    "<h3> 3.1 Define a ROI (region of interest) for the image </h3> "
   ]
  },
  {
   "cell_type": "code",
   "execution_count": null,
   "metadata": {},
   "outputs": [],
   "source": [
    "def define_roi(image, x, y, width, height):\n",
    "    roi = image.crop((x, y, x + width, y + height))\n",
    "    return roi"
   ]
  },
  {
   "cell_type": "code",
   "execution_count": 10,
   "metadata": {},
   "outputs": [],
   "source": [
    "# Exemplo de uso:\n",
    "x = 100\n",
    "y = 150\n",
    "width = 200\n",
    "height = 150\n",
    "\n",
    "# Iterar por todas as imagens e criar ROI para cada uma\n",
    "roi_images = {}\n",
    "for image_name, image in whiteimages.items():\n",
    "    roi = define_roi(image, x, y, width, height)\n",
    "    roi.show()\n",
    "    roi_images[image_name] = roi"
   ]
  },
  {
   "cell_type": "markdown",
   "metadata": {},
   "source": [
    "<h3> 3.2 Calculate the number of M&M per color for all images provided </h3>"
   ]
  },
  {
   "cell_type": "code",
   "execution_count": 11,
   "metadata": {},
   "outputs": [],
   "source": [
    "def count_mms_by_color(image, color_masks):\n",
    "    hsv_image = cv2.cvtColor(image, cv2.COLOR_RGB2HSV)\n",
    "    counts = {}\n",
    "    for color, mask in color_masks.items():\n",
    "        result = cv2.bitwise_and(image, image, mask=mask)\n",
    "        mms_count = np.sum(mask > 0) // 255\n",
    "        counts[color] = mms_count\n",
    "    return counts"
   ]
  },
  {
   "cell_type": "code",
   "execution_count": 17,
   "metadata": {},
   "outputs": [],
   "source": [
    "# Suponha que whiteimages seja o seu dicionário de imagens\n",
    "color_counts = {}  # Dicionário para armazenar a contagem de M&Ms por cor\n",
    "\n",
    "for image_name, image in whiteimages.items():\n",
    "    # Carregue a imagem em formato RGB (por exemplo, utilizando PIL)\n",
    "    image_rgb = cv2.cvtColor(np.array(image), cv2.COLOR_RGB2BGR)\n",
    "\n",
    "    # Converta a imagem BGR para o espaço de cores HSV\n",
    "    hsv_image = cv2.cvtColor(image_rgb, cv2.COLOR_BGR2HSV)\n",
    "\n",
    "    # Defina os intervalos de cor para M&M amarelo\n",
    "    lower_yellow = np.array([20, 100, 100])\n",
    "    upper_yellow = np.array([30, 255, 255])\n",
    "\n",
    "    # Defina os intervalos de cor para M&M azul\n",
    "    lower_blue = np.array([90, 50, 50])\n",
    "    upper_blue = np.array([130, 255, 255])\n",
    "\n",
    "    # Defina os intervalos de cor para M&M vermelho\n",
    "    lower_red1 = np.array([0, 100, 100])\n",
    "    upper_red1 = np.array([10, 255, 255])\n",
    "    lower_red2 = np.array([160, 100, 100])\n",
    "    upper_red2 = np.array([180, 255, 255])\n",
    "\n",
    "    # Defina os intervalos de cor para M&M verde\n",
    "    lower_green = np.array([40, 100, 100])\n",
    "    upper_green = np.array([80, 255, 255])\n",
    "\n",
    "    color_masks = {\n",
    "        \"Yellow\": cv2.inRange(hsv_image, lower_yellow, upper_yellow),\n",
    "        \"Blue\": cv2.inRange(hsv_image, lower_blue, upper_blue),\n",
    "        \"Red\": cv2.inRange(hsv_image, lower_red1, upper_red1) | cv2.inRange(hsv_image, lower_red2, upper_red2),\n",
    "        \"Green\": cv2.inRange(hsv_image, lower_green, upper_green)\n",
    "    }\n",
    "\n",
    "    # Conte o número de M&M por cor na imagem atual\n",
    "    counts = count_mms_by_color(hsv_image, color_masks)\n",
    "    \n",
    "    color_counts[image_name] = counts"
   ]
  },
  {
   "cell_type": "code",
   "execution_count": 18,
   "metadata": {},
   "outputs": [
    {
     "data": {
      "text/plain": [
       "{'calib_img 0.png': {'Yellow': 23, 'Blue': 31, 'Red': 0, 'Green': 0},\n",
       " 'calib_img 1.png': {'Yellow': 168, 'Blue': 195, 'Red': 0, 'Green': 0},\n",
       " 'calib_img 2.png': {'Yellow': 154, 'Blue': 244, 'Red': 106, 'Green': 0},\n",
       " 'calib_img 3.png': {'Yellow': 144, 'Blue': 1106, 'Red': 102, 'Green': 31},\n",
       " 'extrinsic.png': {'Yellow': 6, 'Blue': 71, 'Red': 0, 'Green': 0}}"
      ]
     },
     "execution_count": 18,
     "metadata": {},
     "output_type": "execute_result"
    }
   ],
   "source": [
    "color_counts"
   ]
  },
  {
   "cell_type": "markdown",
   "metadata": {},
   "source": [
    "<h3> 3.3 Determine the average area for peanuts in pixels, considering the \n",
    "image “calib_img 3” </h3>"
   ]
  },
  {
   "cell_type": "markdown",
   "metadata": {},
   "source": [
    "<h4> 3.3.1 Show all peanuts that were detected </h4>"
   ]
  },
  {
   "cell_type": "markdown",
   "metadata": {},
   "source": [
    "<h4> 3.3.2 Discuss the limitations of the peanut detection method used (in 2 sentences) </h4>"
   ]
  },
  {
   "cell_type": "markdown",
   "metadata": {},
   "source": [
    "<h3> 3.4 Determine the average area (and standard deviation) for peanuts \n",
    "in millimeters and grouped by color, considering images “calib_img \n",
    "2” and “calib_img 3” </h3>"
   ]
  },
  {
   "cell_type": "markdown",
   "metadata": {},
   "source": [
    "<h4> 3.4.1 Show  the  result  in  a  table  color  vs  area  and  standard deviation </h4>"
   ]
  },
  {
   "cell_type": "markdown",
   "metadata": {},
   "source": [
    "<h4> 3.4.2 Discuss  the  limitation  of  the  method  implemented  (in  2 sentences) </h4>"
   ]
  },
  {
   "cell_type": "markdown",
   "metadata": {},
   "source": [
    "<h3> 3.5 Provide some recommendations that the M&M factory should take \n",
    "into  consideration to  improve  the  performance  of  the quality \n",
    "assurance  process  based  on  image  processing  (e.g.,  imaging \n",
    "setup, calibration process and photometric effects), in 4 sentences. </h3>"
   ]
  }
 ],
 "metadata": {
  "kernelspec": {
   "display_name": "base",
   "language": "python",
   "name": "python3"
  },
  "language_info": {
   "codemirror_mode": {
    "name": "ipython",
    "version": 3
   },
   "file_extension": ".py",
   "mimetype": "text/x-python",
   "name": "python",
   "nbconvert_exporter": "python",
   "pygments_lexer": "ipython3",
   "version": "3.11.4"
  }
 },
 "nbformat": 4,
 "nbformat_minor": 2
}
