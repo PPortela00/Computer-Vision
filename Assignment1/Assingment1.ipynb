{
 "cells": [
  {
   "cell_type": "code",
   "execution_count": 6,
   "metadata": {},
   "outputs": [
    {
     "name": "stdout",
     "output_type": "stream",
     "text": [
      "Imagens do folder GreyBackground:\n",
      "Imagem lida: calib_img 0.png\n",
      "Imagem lida: calib_img 1.png\n",
      "Imagem lida: calib_img 2.png\n",
      "Imagem lida: calib_img 3.png\n",
      "Imagem lida: calib_img 4.png\n",
      "Imagem lida: calib_img 5.png\n",
      "Imagem lida: extrinsic.png\n",
      "\n",
      "Imagens do folder WhiteBackground:\n",
      "Imagem lida: calib_img 0.png\n",
      "Imagem lida: calib_img 1.png\n",
      "Imagem lida: calib_img 2.png\n",
      "Imagem lida: calib_img 3.png\n",
      "Imagem lida: extrinsic.png\n",
      "\n",
      "Imagens do folder IntrinsicCalibration:\n",
      "Imagem lida: calib_img 0.png\n",
      "Imagem lida: calib_img 1.png\n",
      "Imagem lida: calib_img 10.png\n",
      "Imagem lida: calib_img 11.png\n",
      "Imagem lida: calib_img 12.png\n",
      "Imagem lida: calib_img 13.png\n",
      "Imagem lida: calib_img 14.png\n",
      "Imagem lida: calib_img 15.png\n",
      "Imagem lida: calib_img 16.png\n",
      "Imagem lida: calib_img 17.png\n",
      "Imagem lida: calib_img 18.png\n",
      "Imagem lida: calib_img 19.png\n",
      "Imagem lida: calib_img 2.png\n",
      "Imagem lida: calib_img 20.png\n",
      "Imagem lida: calib_img 21.png\n",
      "Imagem lida: calib_img 22.png\n",
      "Imagem lida: calib_img 23.png\n",
      "Imagem lida: calib_img 24.png\n",
      "Imagem lida: calib_img 25.png\n",
      "Imagem lida: calib_img 26.png\n",
      "Imagem lida: calib_img 27.png\n",
      "Imagem lida: calib_img 28.png\n",
      "Imagem lida: calib_img 29.png\n",
      "Imagem lida: calib_img 3.png\n",
      "Imagem lida: calib_img 30.png\n",
      "Imagem lida: calib_img 31.png\n",
      "Imagem lida: calib_img 32.png\n",
      "Imagem lida: calib_img 33.png\n",
      "Imagem lida: calib_img 34.png\n",
      "Imagem lida: calib_img 35.png\n",
      "Imagem lida: calib_img 4.png\n",
      "Imagem lida: calib_img 5.png\n",
      "Imagem lida: calib_img 6.png\n",
      "Imagem lida: calib_img 7.png\n",
      "Imagem lida: calib_img 8.png\n",
      "Imagem lida: calib_img 9.png\n",
      "\n"
     ]
    }
   ],
   "source": [
    "from PIL import Image\n",
    "import os\n",
    "\n",
    "# Lista de nomes de pastas\n",
    "folders = [\"GreyBackground\", \"WhiteBackground\", \"IntrinsicCalibration\"]\n",
    "\n",
    "# Dicionário para armazenar as imagens\n",
    "images = {}\n",
    "\n",
    "# Para cada pasta, leia os arquivos PNG\n",
    "for folder_name in folders:\n",
    "    print(f\"Imagens do folder {folder_name}:\")\n",
    "    \n",
    "    for filename in os.listdir(folder_name):\n",
    "        if filename.endswith(\".png\"):\n",
    "            file_path = os.path.join(folder_name, filename)\n",
    "            image = Image.open(file_path)\n",
    "            \n",
    "            # Armazene a imagem no dicionário, usando o nome do arquivo como chave\n",
    "            images[filename] = image\n",
    "            \n",
    "            print(f\"Imagem lida: {filename}\")\n",
    "    print(\"\")"
   ]
  },
  {
   "cell_type": "code",
   "execution_count": 10,
   "metadata": {},
   "outputs": [],
   "source": [
    "# Apresentar uma imagem qualquer \n",
    "image = images[\"calib_img 0.png\"]\n",
    "image.show()"
   ]
  }
 ],
 "metadata": {
  "kernelspec": {
   "display_name": "base",
   "language": "python",
   "name": "python3"
  },
  "language_info": {
   "codemirror_mode": {
    "name": "ipython",
    "version": 3
   },
   "file_extension": ".py",
   "mimetype": "text/x-python",
   "name": "python",
   "nbconvert_exporter": "python",
   "pygments_lexer": "ipython3",
   "version": "3.11.4"
  }
 },
 "nbformat": 4,
 "nbformat_minor": 2
}
